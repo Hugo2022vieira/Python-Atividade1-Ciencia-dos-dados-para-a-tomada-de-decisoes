{
  "nbformat": 4,
  "nbformat_minor": 0,
  "metadata": {
    "colab": {
      "provenance": []
    },
    "kernelspec": {
      "name": "python3",
      "display_name": "Python 3"
    },
    "language_info": {
      "name": "python"
    }
  },
  "cells": [
    {
      "cell_type": "code",
      "execution_count": 3,
      "metadata": {
        "colab": {
          "base_uri": "https://localhost:8080/"
        },
        "id": "1S6nzlwDyIDb",
        "outputId": "f109fabc-3db3-4350-f4fb-6e55d973cb43"
      },
      "outputs": [
        {
          "output_type": "stream",
          "name": "stdout",
          "text": [
            "0\n",
            "1\n",
            "2\n",
            "3\n",
            "4\n"
          ]
        }
      ],
      "source": [
        "# Parte 1: Criando um loop for para exibir os valores de 0 a 4\n",
        "for counter in range(5):\n",
        "    print(counter)"
      ]
    },
    {
      "cell_type": "code",
      "source": [
        "# Parte 2: Criando o dicionário de frutas\n",
        "example_dict = {'apples': 5, 'oranges': 8, 'bananas': 13}\n",
        "\n",
        "# Convertendo o dicionário para uma lista\n",
        "dict_to_list = list(example_dict)\n",
        "\n",
        "dict_to_list\n"
      ],
      "metadata": {
        "colab": {
          "base_uri": "https://localhost:8080/"
        },
        "id": "MvFr2sn1ygqN",
        "outputId": "d1809bfe-f155-4e6f-b4cc-79fa8cd13b1e"
      },
      "execution_count": 4,
      "outputs": [
        {
          "output_type": "execute_result",
          "data": {
            "text/plain": [
              "['apples', 'oranges', 'bananas']"
            ]
          },
          "metadata": {},
          "execution_count": 4
        }
      ]
    },
    {
      "cell_type": "code",
      "source": [],
      "metadata": {
        "id": "BWxn2m5wzWFi"
      },
      "execution_count": null,
      "outputs": []
    }
  ]
}